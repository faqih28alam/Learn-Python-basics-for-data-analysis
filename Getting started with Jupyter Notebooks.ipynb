{
 "cells": [
  {
   "cell_type": "markdown",
   "id": "776ee094",
   "metadata": {},
   "source": [
    "# Getting started with Jupyter Notebooks"
   ]
  },
  {
   "cell_type": "code",
   "execution_count": 3,
   "id": "9d5c045f",
   "metadata": {},
   "outputs": [
    {
     "name": "stdout",
     "output_type": "stream",
     "text": [
      "Hello World !\n"
     ]
    }
   ],
   "source": [
    "print('Hello World !')"
   ]
  },
  {
   "cell_type": "markdown",
   "id": "56a486c7",
   "metadata": {},
   "source": [
    "## Different cell types"
   ]
  },
  {
   "cell_type": "markdown",
   "id": "f076781d",
   "metadata": {},
   "source": [
    "* first\n",
    "* second\n",
    "    * first sub-second\n",
    "    * second sub-second\n",
    "* third\n",
    "\n",
    "<b> bold text </b>"
   ]
  },
  {
   "cell_type": "code",
   "execution_count": null,
   "id": "e239f577",
   "metadata": {},
   "outputs": [],
   "source": []
  }
 ],
 "metadata": {
  "kernelspec": {
   "display_name": "Python 3",
   "language": "python",
   "name": "python3"
  },
  "language_info": {
   "codemirror_mode": {
    "name": "ipython",
    "version": 3
   },
   "file_extension": ".py",
   "mimetype": "text/x-python",
   "name": "python",
   "nbconvert_exporter": "python",
   "pygments_lexer": "ipython3",
   "version": "3.8.8"
  }
 },
 "nbformat": 4,
 "nbformat_minor": 5
}
